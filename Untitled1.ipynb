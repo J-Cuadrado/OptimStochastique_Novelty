{
 "cells": [
  {
   "cell_type": "code",
   "execution_count": 1,
   "metadata": {},
   "outputs": [],
   "source": [
    "%matplotlib inline\n",
    "import matplotlib.pyplot as plt\n",
    "import numpy as np\n",
    "import math"
   ]
  },
  {
   "cell_type": "code",
   "execution_count": 2,
   "metadata": {},
   "outputs": [
    {
     "data": {
      "text/plain": [
       "(0, 10)"
      ]
     },
     "execution_count": 2,
     "metadata": {},
     "output_type": "execute_result"
    },
    {
     "data": {
      "image/png": "[encoded data removed]",
      "text/plain": [
       "<Figure size 432x288 with 1 Axes>"
      ]
     },
     "metadata": {
      "needs_background": "light"
     },
     "output_type": "display_data"
    }
   ],
   "source": [
    "f, ax = plt.subplots()\n",
    "\n",
    "ax.set_title('Simple plot')\n",
    "x = np.arange(4,12.5,0.5)\n",
    "y = -0.75*x + 9\n",
    "ax.plot(x, y)\n",
    "\n",
    "x = np.arange(6,8.5,0.5)\n",
    "y = 0.5*x + 6\n",
    "ax.plot(x, y)\n",
    "\n",
    "x = np.arange(8,12.5,0.5)\n",
    "y = 0.625*x + 2.5\n",
    "ax.plot(x, y)\n",
    "\n",
    "x = np.arange(12,16.5,0.5)\n",
    "y = 1*x - 6\n",
    "ax.plot(x, y)\n",
    "\n",
    "axes = plt.gca()\n",
    "axes.set_xlim([0,20])\n",
    "axes.set_ylim([0,10])"
   ]
  },
  {
   "cell_type": "code",
   "execution_count": null,
   "metadata": {},
   "outputs": [],
   "source": []
  },
  {
   "cell_type": "code",
   "execution_count": 3,
   "metadata": {},
   "outputs": [],
   "source": [
    "def distance(x1,x2):\n",
    "    return np.sqrt((x1[0] - x2[0])**2 + (x1[1] - x2[1])**2)"
   ]
  },
  {
   "cell_type": "code",
   "execution_count": null,
   "metadata": {},
   "outputs": [],
   "source": []
  },
  {
   "cell_type": "code",
   "execution_count": 4,
   "metadata": {},
   "outputs": [],
   "source": [
    "def line2points(x,x0):\n",
    "    m = (x[1]-x0[1])/(x[0]-x0[0])\n",
    "    n = x0[1]-m * x0[0]\n",
    "    return m,n"
   ]
  },
  {
   "cell_type": "code",
   "execution_count": 5,
   "metadata": {},
   "outputs": [],
   "source": [
    "def feasible(x_start, x):\n",
    "    isFeasible = True\n",
    "    \n",
    "    if x[0]<0 or x[0]>20 or x[1]<0 or x[1]>10:\n",
    "        isFeasible = False\n",
    "    \n",
    "    m,n = line2points(x_start,x)\n",
    "    \n",
    "    #check first obstacle\n",
    "    x_int = -(n-9)/(m+0.75)\n",
    "    if ((x_int >= x_start[0] and x_int <= x[0]) or (x_int <= x_start[0] and x_int >= x[0])) and x_int >4 and x_int < 12:\n",
    "        isFeasible = False\n",
    "        \n",
    "    #check second obstacle\n",
    "    x_int = -(n-6)/(m-0.5)\n",
    "    if ((x_int >= x_start[0] and x_int <= x[0]) or (x_int <= x_start[0] and x_int >= x[0])) and x_int >6 and x_int <8:\n",
    "        isFeasible = False\n",
    "        \n",
    "    #check third obstacle\n",
    "    x_int = -(n-2.5)/(m-0.625)\n",
    "    if ((x_int >= x_start[0] and x_int <= x[0]) or (x_int <= x_start[0] and x_int >= x[0])) and x_int >8 and x_int <12:\n",
    "        isFeasible = False\n",
    "        \n",
    "    #check fourth obstacle\n",
    "    x_int = -(n+6)/(m-1)\n",
    "    if ((x_int >= x_start[0] and x_int <= x[0]) or (x_int <= x_start[0] and x_int >= x[0])) and x_int >12 and x_int <16:\n",
    "        isFeasible = False    \n",
    "    \n",
    "    return isFeasible"
   ]
  },
  {
   "cell_type": "code",
   "execution_count": null,
   "metadata": {},
   "outputs": [],
   "source": []
  },
  {
   "cell_type": "code",
   "execution_count": 6,
   "metadata": {},
   "outputs": [],
   "source": [
    "x_0 = [0,0]\n",
    "x_goal = [20,10]\n",
    "# rho_last = 0\n",
    "\n",
    "neighbors = 20\n",
    "rho_min = 0.5\n",
    "\n",
    "archive = []\n",
    "archive.append(x_0)\n",
    "\n",
    "track = []\n",
    "track.append(x_0)\n",
    "\n",
    "thr = 0.5\n",
    "\n",
    "solved = False\n",
    "\n",
    "n_generations = 1000\n",
    "n_points = 50\n",
    "\n",
    "for gen in range(n_generations):\n",
    "    population = x_0 + np.random.normal(scale = thr, size=(n_points,2))\n",
    "    feasible_points = []\n",
    "    for i in range(n_points):\n",
    "        if feasible(x_0,population[i]):\n",
    "            feasible_points.append(i)\n",
    "    \n",
    "    if not feasible_points: continue\n",
    "    \n",
    "    rho = []\n",
    "    for i in feasible_points:\n",
    "        \n",
    "        if distance(population[i], x_goal) <= thr:\n",
    "            track.append(population[i])\n",
    "            track.append(x_goal)\n",
    "            solved = True\n",
    "            break\n",
    "            \n",
    "        distance_i = []\n",
    "        for point in archive:\n",
    "            distance_i.append(distance(population[i],point))\n",
    "            \n",
    "        for j in feasible_points:\n",
    "            distance_i.append(distance(population[i],population[j]))\n",
    "            \n",
    "        distance_i.sort()\n",
    "        rho.append(np.mean(distance_i[:neighbors]))\n",
    "    \n",
    "    if solved: break\n",
    "        \n",
    "    for i in range(len(feasible_points)):\n",
    "        if rho[i] >= rho_min:\n",
    "            archive.append(population[feasible_points[i]])     \n",
    "    \n",
    "    \n",
    "    i_rhomax = np.argmax(rho)\n",
    "    x_0 = population[feasible_points[i_rhomax]]\n",
    "    track.append(x_0)\n",
    "    \n",
    "#     if rho[i_rhomax] > rho_last:\n",
    "#         x_0 = population[feasible_points[i_rhomax]]\n",
    "#         track.append(x_0)\n",
    "#         rho_last = rho[i_rhomax]\n"
   ]
  },
  {
   "cell_type": "code",
   "execution_count": 7,
   "metadata": {},
   "outputs": [
    {
     "data": {
      "text/plain": [
       "52"
      ]
     },
     "execution_count": 7,
     "metadata": {},
     "output_type": "execute_result"
    }
   ],
   "source": [
    "len(archive)\n",
    "len(track)"
   ]
  },
  {
   "cell_type": "code",
   "execution_count": null,
   "metadata": {},
   "outputs": [],
   "source": []
  },
  {
   "cell_type": "code",
   "execution_count": 8,
   "metadata": {},
   "outputs": [],
   "source": [
    "x_coord = []\n",
    "y_coord = []\n",
    "for p in track:\n",
    "    x_coord.append(p[0])\n",
    "    y_coord.append(p[1])"
   ]
  },
  {
   "cell_type": "code",
   "execution_count": 9,
   "metadata": {},
   "outputs": [
    {
     "data": {
      "image/png": "[encoded data removed]",
      "text/plain": [
       "<Figure size 432x288 with 1 Axes>"
      ]
     },
     "metadata": {
      "needs_background": "light"
     },
     "output_type": "display_data"
    }
   ],
   "source": [
    "f, ax = plt.subplots()\n",
    "\n",
    "ax.set_title('Path plot')\n",
    "x = np.arange(4,12.5,0.5)\n",
    "y = -0.75*x + 9\n",
    "ax.plot(x, y)\n",
    "\n",
    "x = np.arange(6,8.5,0.5)\n",
    "y = 0.5*x + 6\n",
    "ax.plot(x, y)\n",
    "\n",
    "x = np.arange(8,12.5,0.5)\n",
    "y = 0.625*x + 2.5\n",
    "ax.plot(x, y)\n",
    "\n",
    "x = np.arange(12,16.5,0.5)\n",
    "y = 1*x - 6\n",
    "ax.plot(x, y)\n",
    "\n",
    "ax.plot(x_coord, y_coord)\n",
    "\n",
    "axes = plt.gca()\n",
    "axes.set_xlim([0,20]);\n",
    "axes.set_ylim([0,10]);"
   ]
  },
  {
   "cell_type": "code",
   "execution_count": null,
   "metadata": {},
   "outputs": [],
   "source": []
  },
  {
   "cell_type": "code",
   "execution_count": null,
   "metadata": {},
   "outputs": [],
   "source": []
  }
 ],
 "metadata": {
  "kernelspec": {
   "display_name": "Python 3",
   "language": "python",
   "name": "python3"
  },
  "language_info": {
   "codemirror_mode": {
    "name": "ipython",
    "version": 3
   },
   "file_extension": ".py",
   "mimetype": "text/x-python",
   "name": "python",
   "nbconvert_exporter": "python",
   "pygments_lexer": "ipython3",
   "version": "3.8.3"
  }
 },
 "nbformat": 4,
 "nbformat_minor": 4
}
